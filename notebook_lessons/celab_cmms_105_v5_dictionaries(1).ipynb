{
 "cells": [
  {
   "cell_type": "markdown",
   "metadata": {},
   "source": [
    "# Dictionaries"
   ]
  },
  {
   "cell_type": "markdown",
   "metadata": {},
   "source": [
    "Dictionaries are what are known as mappings.  In particular a dictionary maps a `key` to a `value`.  The syntax of a dictionary is \n",
    "\n",
    "```python\n",
    "dictionary_name = {key_1:value_1, ..., key_n:value_n}\n",
    "```\n",
    "\n",
    "A key to a value is how the value is looked up.  Keys can be numbers strings, tuples, or in general any immutable type. \n",
    "```python\n",
    "dictionary_name[key_k]      # the value associated with key key_k\n",
    "x = dictionary_name[key_k]  # assigns the value to x\n",
    "dictionary_name[key_k] = y  # dictionaries are mutable  this changes\n",
    "                            # the value referenced by key_k\n",
    "```\n",
    "Since dictionaries are mutable the value assigned to a key can be changed."
   ]
  },
  {
   "cell_type": "markdown",
   "metadata": {},
   "source": [
    "# Using a Dictionary"
   ]
  },
  {
   "cell_type": "code",
   "execution_count": 1,
   "metadata": {},
   "outputs": [
    {
     "name": "stdout",
     "output_type": "stream",
     "text": [
      "<class 'dict'> has data {}\n"
     ]
    }
   ],
   "source": [
    "# make a blank dictionary\n",
    "dictionary_data = {}\n",
    "print(type(dictionary_data),'has data', dictionary_data)"
   ]
  },
  {
   "cell_type": "code",
   "execution_count": 2,
   "metadata": {},
   "outputs": [
    {
     "name": "stdout",
     "output_type": "stream",
     "text": [
      "<class 'dict'> {'first name': 'Kevin', 'height': 74}\n",
      "<class 'str'> Kevin\n",
      "<class 'int'> 74\n"
     ]
    }
   ],
   "source": [
    "# make a dictionary with some `key:value' pairs\n",
    "dictionary_data = {'first name': 'Kevin', 'height': 74}\n",
    "print(type(dictionary_data), dictionary_data)\n",
    "\n",
    "# look up values in the dictioary using 'key's\n",
    "print(type(dictionary_data['first name']), dictionary_data['first name'])\n",
    "print(type(dictionary_data['height']), dictionary_data['height'])"
   ]
  },
  {
   "cell_type": "markdown",
   "metadata": {},
   "source": [
    "We can add a key:value pair to an existing dictionary using the assignment statement.  But if the key already exists in the dictioanry we will change the value associated with that key."
   ]
  },
  {
   "cell_type": "code",
   "execution_count": 3,
   "metadata": {},
   "outputs": [
    {
     "name": "stdout",
     "output_type": "stream",
     "text": [
      "<class 'dict'> {'first name': 'Kevin', 'height': 74, 'month born': 'May'}\n",
      "<class 'dict'> {'first name': 'Kevin', 'height': 74, 'month born': 'March'}\n"
     ]
    }
   ],
   "source": [
    "# add an item to the dictionary\n",
    "dictionary_data['month born'] = 'May'\n",
    "print(type(dictionary_data), dictionary_data)\n",
    "\n",
    "# or change an item\n",
    "dictionary_data['month born'] = 'March'\n",
    "print(type(dictionary_data), dictionary_data)"
   ]
  },
  {
   "cell_type": "code",
   "execution_count": 4,
   "metadata": {},
   "outputs": [
    {
     "ename": "KeyError",
     "evalue": "'age'",
     "output_type": "error",
     "traceback": [
      "\u001b[1;31m---------------------------------------------------------------------------\u001b[0m",
      "\u001b[1;31mKeyError\u001b[0m                                  Traceback (most recent call last)",
      "\u001b[1;32m~\\AppData\\Local\\Temp/ipykernel_12228/3116076497.py\u001b[0m in \u001b[0;36m<module>\u001b[1;34m\u001b[0m\n\u001b[0;32m      1\u001b[0m \u001b[1;31m# if you try to use a key that does not exist you will get a KeyError exception\u001b[0m\u001b[1;33m\u001b[0m\u001b[1;33m\u001b[0m\u001b[1;33m\u001b[0m\u001b[0m\n\u001b[1;32m----> 2\u001b[1;33m \u001b[0mdictionary_data\u001b[0m\u001b[1;33m[\u001b[0m\u001b[1;34m'age'\u001b[0m\u001b[1;33m]\u001b[0m\u001b[1;33m\u001b[0m\u001b[1;33m\u001b[0m\u001b[0m\n\u001b[0m",
      "\u001b[1;31mKeyError\u001b[0m: 'age'"
     ]
    }
   ],
   "source": [
    "# if you try to use a key that does not exist you will get a KeyError exception\n",
    "dictionary_data['age']"
   ]
  },
  {
   "cell_type": "code",
   "execution_count": 5,
   "metadata": {},
   "outputs": [
    {
     "name": "stdout",
     "output_type": "stream",
     "text": [
      "None\n",
      "74\n",
      "indeterminate\n"
     ]
    }
   ],
   "source": [
    "# you can use the .get method instead\n",
    "# if a key does not exist it returns the value None\n",
    "print(dictionary_data.get('age'))\n",
    "print(dictionary_data.get('height'))\n",
    "# instead of None we can return a default\n",
    "print(dictionary_data.get('age', 'indeterminate'))"
   ]
  },
  {
   "cell_type": "code",
   "execution_count": 6,
   "metadata": {},
   "outputs": [
    {
     "name": "stdout",
     "output_type": "stream",
     "text": [
      "False\n"
     ]
    }
   ],
   "source": [
    "# we can check to see if 'age' is a key\n",
    "print(f\"{'age' in dictionary_data}\")"
   ]
  },
  {
   "cell_type": "code",
   "execution_count": 7,
   "metadata": {},
   "outputs": [
    {
     "name": "stdout",
     "output_type": "stream",
     "text": [
      "first name -> Kevin\n",
      "height -> 74\n",
      "month born -> March\n"
     ]
    }
   ],
   "source": [
    "# we can iterate through a dictioary\n",
    "for key in dictionary_data:\n",
    "    print(f\"{key} -> {dictionary_data[key]}\")"
   ]
  },
  {
   "cell_type": "code",
   "execution_count": 8,
   "metadata": {},
   "outputs": [
    {
     "name": "stdout",
     "output_type": "stream",
     "text": [
      "<class 'dict'> {'first name': 'Kevin', 'height': 74}\n",
      "<class 'dict'> {}\n"
     ]
    },
    {
     "ename": "NameError",
     "evalue": "name 'dictionary_data' is not defined",
     "output_type": "error",
     "traceback": [
      "\u001b[1;31m---------------------------------------------------------------------------\u001b[0m",
      "\u001b[1;31mNameError\u001b[0m                                 Traceback (most recent call last)",
      "\u001b[1;32m~\\AppData\\Local\\Temp/ipykernel_12228/744553743.py\u001b[0m in \u001b[0;36m<module>\u001b[1;34m\u001b[0m\n\u001b[0;32m      9\u001b[0m \u001b[1;31m# or we can delete the entire dictioary\u001b[0m\u001b[1;33m\u001b[0m\u001b[1;33m\u001b[0m\u001b[1;33m\u001b[0m\u001b[0m\n\u001b[0;32m     10\u001b[0m \u001b[1;32mdel\u001b[0m \u001b[0mdictionary_data\u001b[0m\u001b[1;33m\u001b[0m\u001b[1;33m\u001b[0m\u001b[0m\n\u001b[1;32m---> 11\u001b[1;33m \u001b[0mprint\u001b[0m\u001b[1;33m(\u001b[0m\u001b[0mtype\u001b[0m\u001b[1;33m(\u001b[0m\u001b[0mdictionary_data\u001b[0m\u001b[1;33m)\u001b[0m\u001b[1;33m,\u001b[0m \u001b[0mdictionary_data\u001b[0m\u001b[1;33m)\u001b[0m  \u001b[1;31m# This will cause an error since dictioanry_data no longer exists\u001b[0m\u001b[1;33m\u001b[0m\u001b[1;33m\u001b[0m\u001b[0m\n\u001b[0m",
      "\u001b[1;31mNameError\u001b[0m: name 'dictionary_data' is not defined"
     ]
    }
   ],
   "source": [
    "# we can also delete a dictionary key:value pair\n",
    "del dictionary_data['month born']\n",
    "print(type(dictionary_data), dictionary_data)\n",
    "\n",
    "# or we can clear the dictionary\n",
    "dictionary_data.clear()\n",
    "print(type(dictionary_data), dictionary_data)\n",
    "\n",
    "# or we can delete the entire dictioary\n",
    "del dictionary_data\n",
    "print(type(dictionary_data), dictionary_data)  # This will cause an error since dictioanry_data no longer exists"
   ]
  },
  {
   "cell_type": "markdown",
   "metadata": {},
   "source": [
    "# Conversion Between Data Structures"
   ]
  },
  {
   "cell_type": "code",
   "execution_count": 9,
   "metadata": {},
   "outputs": [
    {
     "name": "stdout",
     "output_type": "stream",
     "text": [
      "[1, 2, 3, 1]\n",
      "(1, 2, 3, 1)\n",
      "<class 'dict'> {'one': 1, 'two': 2}\n",
      "<class 'str'> {'one': 1, 'two': 2}\n"
     ]
    }
   ],
   "source": [
    "ls = [1, 2, 3, 1]\n",
    "print(ls)\n",
    "\n",
    "tp = tuple(ls)  # convert list to tople\n",
    "print(tp)\n",
    "\n",
    "ls_for_dictionary = [('one',1),('two', 2)]  # list of tuples\n",
    "dt = dict(ls_for_dictionary) # convert list of tuples to dictionary\n",
    "print(type(dt), dt)\n",
    "\n",
    "dts = str(dt)  # convert dictioary to string\n",
    "print(type(dts),dts)"
   ]
  },
  {
   "cell_type": "markdown",
   "metadata": {},
   "source": [
    "# Dictionary Functions and Methods\n",
    "\n",
    "First lets build a function to generate all the primes up to some arbitrary integer num_max.\n"
   ]
  },
  {
   "cell_type": "code",
   "execution_count": 10,
   "metadata": {},
   "outputs": [
    {
     "name": "stdout",
     "output_type": "stream",
     "text": [
      "There are 1229 prime numbers between 1 and 10000\n"
     ]
    }
   ],
   "source": [
    "def primes_to(num_max):\n",
    "    ''' Function to build a dictionary of primes up to num_max \n",
    "        by brute force.  Don't make num_max too large.  this \n",
    "        method starts to slow down after num_max = 10,000'''\n",
    "    primes = {0: 2}\n",
    "    key = 1\n",
    "    for k in range(3, num_max + 1):\n",
    "        not_divisible = True\n",
    "        \n",
    "        for j in primes:\n",
    "            if k%primes[j] == 0:\n",
    "                not_divisible = False\n",
    "                break\n",
    "                \n",
    "        if not_divisible:\n",
    "            primes[key] = k\n",
    "            key = key + 1\n",
    "    return primes\n",
    "\n",
    "num_max = 10000\n",
    "primes = primes_to(num_max)\n",
    "print(f\"There are {len(primes)} prime numbers between 1 and {num_max}\")\n"
   ]
  },
  {
   "cell_type": "code",
   "execution_count": 11,
   "metadata": {},
   "outputs": [
    {
     "name": "stdout",
     "output_type": "stream",
     "text": [
      "149 is the 35'th prime\n",
      "511 is not a prime number\n"
     ]
    }
   ],
   "source": [
    "# lets build a reverse look up dictionary\n",
    "prime_to_index = {}\n",
    "for key in primes:\n",
    "    prime_to_index[primes[key]] = key\n",
    "\n",
    "\n",
    "# where is the prime 149\n",
    "print(f\"{149} is the {prime_to_index[149] +1}'th prime\")\n",
    "\n",
    "# is 227 prime\n",
    "number = 511\n",
    "\n",
    "if number in prime_to_index:\n",
    "    print(f\"{number} is a prime number\")\n",
    "else:\n",
    "    print(f\"{number} is not a prime number\")\n",
    "    "
   ]
  },
  {
   "cell_type": "markdown",
   "metadata": {},
   "source": [
    "## The .keys() and .values() and .items() methods "
   ]
  },
  {
   "cell_type": "code",
   "execution_count": 12,
   "metadata": {},
   "outputs": [
    {
     "data": {
      "text/plain": [
       "True"
      ]
     },
     "execution_count": 12,
     "metadata": {},
     "output_type": "execute_result"
    }
   ],
   "source": [
    "prime_numbers = list(prime_to_index.keys())\n",
    "149 in prime_numbers"
   ]
  },
  {
   "cell_type": "markdown",
   "metadata": {},
   "source": [
    "Starting with Python 3.6, dictionaries preserve the\n",
    "order that the keys were created and return them in that order"
   ]
  },
  {
   "cell_type": "code",
   "execution_count": 13,
   "metadata": {},
   "outputs": [],
   "source": [
    "some_integers = list(prime_to_index.values())\n",
    "#print(some_integers)"
   ]
  },
  {
   "cell_type": "code",
   "execution_count": 14,
   "metadata": {},
   "outputs": [
    {
     "name": "stdout",
     "output_type": "stream",
     "text": [
      "dictionary[0] -> 2\n",
      "dictionary[1] -> 3\n",
      "dictionary[2] -> 5\n",
      "dictionary[3] -> 7\n",
      "dictionary[4] -> 11\n",
      "dictionary[5] -> 13\n",
      "dictionary[6] -> 17\n",
      "dictionary[7] -> 19\n",
      "dictionary[8] -> 23\n",
      "dictionary[9] -> 29\n",
      "\n"
     ]
    }
   ],
   "source": [
    "def dictionary_printer(d, n):\n",
    "    \"\"\"print first n items of a dictionary\"\"\"\n",
    "    m = 0\n",
    "    for k, v in d.items():\n",
    "        if m < n:\n",
    "            print (f\"dictionary[{k}] -> {v}\")\n",
    "            m = m + 1\n",
    "    print()\n",
    "\n",
    "dictionary_printer(primes, 10)"
   ]
  },
  {
   "cell_type": "markdown",
   "metadata": {},
   "source": [
    "##  List and Dictionary Comprehensions\n",
    "\n",
    "In list comprehensions we use square brackets, `[]`,  and a single target variable using the following general format.\n",
    "\n",
    "```python\n",
    "x = [f(y) for y in iterable if g(y)]  # x is a list\n",
    "```\n",
    "\n",
    "In dictionary comprehensions we use curly brackets, `{}`, and a key, value target using the following general format,\n",
    "\n",
    "```python\n",
    "x = {k:v for (k, v) in iterable if g(k, v)}\n",
    "x = {k:v(k) for k in iterable if g(k)}\n",
    "```\n"
   ]
  },
  {
   "cell_type": "code",
   "execution_count": 16,
   "metadata": {},
   "outputs": [
    {
     "name": "stdout",
     "output_type": "stream",
     "text": [
      "[1, 4, 9, 16, 25, 36, 49, 64, 81, 100, 121, 144, 169, 196, 225, 256, 289, 324, 361, 400, 441, 484, 529, 576, 625, 676, 729, 784, 841, 900, 961, 1024, 1089, 1156, 1225, 1296, 1369, 1444, 1521, 1600, 1681, 1764, 1849, 1936, 2025, 2116, 2209, 2304, 2401, 2500, 2601, 2704, 2809, 2916, 3025, 3136, 3249, 3364, 3481, 3600, 3721, 3844, 3969, 4096, 4225, 4356, 4489, 4624, 4761, 4900, 5041, 5184, 5329, 5476, 5625, 5776, 5929, 6084, 6241, 6400, 6561, 6724, 6889, 7056, 7225, 7396, 7569, 7744, 7921, 8100, 8281, 8464, 8649, 8836, 9025, 9216, 9409, 9604, 9801]\n"
     ]
    }
   ],
   "source": [
    "squares = [y**2 for y in range(1, 100)]\n",
    "print(squares)"
   ]
  },
  {
   "cell_type": "code",
   "execution_count": 17,
   "metadata": {},
   "outputs": [
    {
     "name": "stdout",
     "output_type": "stream",
     "text": [
      "{0: 0, 1: 1, 2: 4, 3: 9}\n"
     ]
    }
   ],
   "source": [
    "dict_squares = {x: x**2 for x in range(4)}\n",
    "print(dict_squares)"
   ]
  },
  {
   "cell_type": "code",
   "execution_count": 15,
   "metadata": {},
   "outputs": [
    {
     "name": "stdout",
     "output_type": "stream",
     "text": [
      "dictionary[2] -> 0\n",
      "dictionary[3] -> 1\n",
      "dictionary[5] -> 2\n",
      "dictionary[7] -> 3\n",
      "dictionary[11] -> 4\n",
      "dictionary[13] -> 5\n",
      "dictionary[17] -> 6\n",
      "dictionary[19] -> 7\n",
      "dictionary[23] -> 8\n",
      "dictionary[29] -> 9\n",
      "\n"
     ]
    }
   ],
   "source": [
    "alt_prime_to_index = {v:k for k,v in primes.items()}\n",
    "dictionary_printer(alt_prime_to_index, 10)"
   ]
  },
  {
   "cell_type": "markdown",
   "metadata": {},
   "source": [
    "## Example Uses of Dictionaries"
   ]
  },
  {
   "cell_type": "code",
   "execution_count": 18,
   "metadata": {},
   "outputs": [
    {
     "name": "stdout",
     "output_type": "stream",
     "text": [
      "The word 'life' occurs 1 times in the string.\n",
      "The word 'is' occurs 1 times in the string.\n",
      "The word 'like' occurs 1 times in the string.\n",
      "The word 'a' occurs 1 times in the string.\n",
      "The word 'box' occurs 1 times in the string.\n",
      "The word 'of' occurs 1 times in the string.\n",
      "The word 'chocolates' occurs 1 times in the string.\n",
      "The word 'you' occurs 3 times in the string.\n",
      "The word 'never' occurs 2 times in the string.\n",
      "The word 'know' occurs 2 times in the string.\n",
      "The word 'what' occurs 1 times in the string.\n",
      "The word 'will' occurs 1 times in the string.\n",
      "The word 'get' occurs 1 times in the string.\n",
      "The word 'next' occurs 1 times in the string.\n"
     ]
    }
   ],
   "source": [
    "# simple word count program\n",
    "text = \"life is like a box of chocolates you never know what you will get next you never know\"\n",
    "word_count = {}\n",
    "for word in text.split():\n",
    "    word_count[word] = word_count.get(word, 0) + 1\n",
    "    \n",
    "for word in word_count:\n",
    "    print(f\"The word '{word}' occurs {word_count[word]} times in the string.\")"
   ]
  },
  {
   "cell_type": "code",
   "execution_count": 20,
   "metadata": {},
   "outputs": [
    {
     "name": "stdout",
     "output_type": "stream",
     "text": [
      "dictionary[(0, 0)] -> 1.0\n",
      "dictionary[(1, 1)] -> 1.0\n",
      "dictionary[(2, 2)] -> 1.0\n",
      "dictionary[(3, 3)] -> 1.0\n",
      "dictionary[(4, 4)] -> 1.0\n",
      "dictionary[(5, 5)] -> 1.0\n",
      "dictionary[(6, 6)] -> 1.0\n",
      "dictionary[(7, 7)] -> 1.0\n",
      "dictionary[(8, 8)] -> 1.0\n",
      "dictionary[(9, 9)] -> 1.0\n",
      "\n"
     ]
    }
   ],
   "source": [
    "# build a sparse matrix using a dictionary with tuple keys\n",
    "\n",
    "identity_matrix = {}\n",
    "for k in range (10000):\n",
    "    diag = (k, k)\n",
    "    identity_matrix[diag] = 1.0\n",
    "\n",
    "dictionary_printer(identity_matrix, 10)"
   ]
  },
  {
   "cell_type": "code",
   "execution_count": 21,
   "metadata": {},
   "outputs": [
    {
     "data": {
      "text/plain": [
       "1.0"
      ]
     },
     "execution_count": 21,
     "metadata": {},
     "output_type": "execute_result"
    }
   ],
   "source": [
    "# to use the whole matrix we can use code like this\n",
    "def get_value(m, i, j):\n",
    "    \"\"\"function to return the i,j element of the sparse matrix m\n",
    "       m is a dictionary with tuple keys of the form (i,j)\"\"\"\n",
    "    \n",
    "    if (i, j) in m:\n",
    "        return m[(i, j)]\n",
    "    else:\n",
    "        return 0.0\n",
    "\n",
    "get_value(identity_matrix, 500, 500)"
   ]
  },
  {
   "cell_type": "markdown",
   "metadata": {},
   "source": [
    "# Copying Dictionaries \n",
    "\n",
    "Copy and Deepcopy \n"
   ]
  },
  {
   "cell_type": "markdown",
   "metadata": {},
   "source": [
    "Notice below that using assignment `g = f` simply points to the same dictionary in memory.  \n",
    "On the other hand, using `f.copy()` makes a new dictionary which is a copy of f."
   ]
  },
  {
   "cell_type": "code",
   "execution_count": null,
   "metadata": {},
   "outputs": [],
   "source": [
    "f = {'a':'A', 'b':'B', 'c':'C'} \n",
    "g = f\n",
    "print(f\"dictionary {f} is at {id(f)} while \\ndictionary {g} is at {id(g)}\")\n",
    "f['d'] = 'D'\n",
    "print()\n",
    "print(f)\n",
    "print(g)\n",
    "print()\n",
    "h=f.copy()\n",
    "print(f\"dictionary {f} is at {id(f)} while \\ndictionary {h} is at {id(h)}\")"
   ]
  },
  {
   "cell_type": "markdown",
   "metadata": {},
   "source": [
    "You can run into difficulties using `.copy` as shown in the following example."
   ]
  },
  {
   "cell_type": "code",
   "execution_count": null,
   "metadata": {},
   "outputs": [],
   "source": [
    "# assignment works by pointing to the same data structure\n",
    "f = [{'one':1, 'two':2}, {'a':'A', 'b':'B'}]\n",
    "g = f\n",
    "print(f\"list {f} is at {id(f)} while \\nlist {g} is at {id(g)}\")\n",
    "print()\n",
    "\n",
    "h = f.copy()\n",
    "print(f\"list {f} is at {id(f)} while \\nlist {h} is at {id(h)}\")\n",
    "print()\n",
    "\n",
    "f[0]['one'] = 4  # we can change this value to 4 in the first dictionary of list f\n",
    "print(f\"list {f} is at {id(f)} while \\nlist {h} is at {id(h)}\")  # but it also changed the vlue of h \n",
    "print()\n"
   ]
  },
  {
   "cell_type": "markdown",
   "metadata": {},
   "source": [
    "To fix this we have to use deepcopy in the builtin copy module"
   ]
  },
  {
   "cell_type": "code",
   "execution_count": null,
   "metadata": {},
   "outputs": [],
   "source": [
    "import copy\n",
    "# assignment works by pointing to the same data structure\n",
    "f = [{'one':1, 'two':2}, {'a':'A', 'b':'B'}]\n",
    "\n",
    "h = copy.deepcopy(f)\n",
    "print(f\"list {f} is at {id(f)} while \\nlist {h} is at {id(h)}\")\n",
    "print()\n",
    "\n",
    "f[0]['one'] = 4  # we can change this value to 4 in the first dictionary of list f\n",
    "print(f\"list {f} is at {id(f)} while \\nlist {h} is at {id(h)}\")  # and now it does not change in h\n",
    "print()"
   ]
  },
  {
   "cell_type": "markdown",
   "metadata": {},
   "source": [
    "# A Few Interesting Things"
   ]
  },
  {
   "cell_type": "markdown",
   "metadata": {},
   "source": [
    "## Pretty Print Function pprint"
   ]
  },
  {
   "cell_type": "code",
   "execution_count": 26,
   "metadata": {},
   "outputs": [
    {
     "name": "stdout",
     "output_type": "stream",
     "text": [
      "{0: 0, 1: 1, 2: 4, 3: 9, 4: 16, 5: 25, 6: 36, 7: 49, 8: 64, 9: 81, 10: 100, 11: 121, 12: 144, 13: 169, 14: 196}\n",
      "\n",
      "{0: 0,\n",
      " 1: 1,\n",
      " 2: 4,\n",
      " 3: 9,\n",
      " 4: 16,\n",
      " 5: 25,\n",
      " 6: 36,\n",
      " 7: 49,\n",
      " 8: 64,\n",
      " 9: 81,\n",
      " 10: 100,\n",
      " 11: 121,\n",
      " 12: 144,\n",
      " 13: 169,\n",
      " 14: 196}\n",
      "[1, 3, 5, 7, 9, 11]\n"
     ]
    }
   ],
   "source": [
    "import pprint\n",
    "dict_squares = {x: x**2 for x in range(15)}\n",
    "print(dict_squares)\n",
    "print()\n",
    "pprint.pprint(dict_squares)"
   ]
  },
  {
   "cell_type": "markdown",
   "metadata": {},
   "source": [
    "## Timing Code"
   ]
  },
  {
   "cell_type": "code",
   "execution_count": 30,
   "metadata": {},
   "outputs": [],
   "source": [
    "import timeit\n",
    "\n",
    "def test_concat():\n",
    "    l = []\n",
    "    for i in range(1000):\n",
    "        l = l + [i]\n",
    "\n",
    "def test_append():\n",
    "    l = []\n",
    "    for i in range(1000):\n",
    "        l.append(i)\n",
    "\n",
    "def test_comp():\n",
    "    l = [i for i in range(1000)]"
   ]
  },
  {
   "cell_type": "code",
   "execution_count": 32,
   "metadata": {},
   "outputs": [
    {
     "name": "stdout",
     "output_type": "stream",
     "text": [
      "concat 1.025269699999967, milleseconds.\n",
      "append 0.054182100000048194, milleseconds.\n",
      "comprehension 0.02637640000000374, milleseconds.\n"
     ]
    }
   ],
   "source": [
    "# timing various ways to build a list \n",
    "\n",
    "t1 = timeit.Timer(\"test_concat()\", \"from __main__ import test_concat\")\n",
    "print(f\"concat {t1.timeit(number=1000)}, milleseconds.\")\n",
    "t2 = timeit.Timer(\"test_append()\", \"from __main__ import test_append\")\n",
    "print(f\"append {t2.timeit(number=1000)}, milleseconds.\")\n",
    "t3 = timeit.Timer(\"test_comp()\", \"from __main__ import test_comp\")\n",
    "print(f\"comprehension {t3.timeit(number=1000)}, milleseconds.\")"
   ]
  },
  {
   "cell_type": "markdown",
   "metadata": {},
   "source": [
    "## unicode"
   ]
  },
  {
   "cell_type": "code",
   "execution_count": 34,
   "metadata": {},
   "outputs": [
    {
     "name": "stdout",
     "output_type": "stream",
     "text": [
      "    33 = !     34 = \"     35 = # \n",
      "    36 = $     37 = %     38 = &     39 = '     40 = (     41 = ) \n",
      "    42 = *     43 = +     44 = ,     45 = -     46 = .     47 = / \n",
      "    48 = 0     49 = 1     50 = 2     51 = 3     52 = 4     53 = 5 \n",
      "    54 = 6     55 = 7     56 = 8     57 = 9     58 = :     59 = ; \n",
      "    60 = <     61 = =     62 = >     63 = ?     64 = @     65 = A \n",
      "    66 = B     67 = C     68 = D     69 = E     70 = F     71 = G \n",
      "    72 = H     73 = I     74 = J     75 = K     76 = L     77 = M \n",
      "    78 = N     79 = O     80 = P     81 = Q     82 = R     83 = S \n",
      "    84 = T     85 = U     86 = V     87 = W     88 = X     89 = Y \n",
      "    90 = Z     91 = [     92 = \\     93 = ]     94 = ^     95 = _ \n",
      "    96 = `     97 = a     98 = b     99 = c    100 = d    101 = e \n",
      "   102 = f    103 = g    104 = h    105 = i    106 = j    107 = k \n",
      "   108 = l    109 = m    110 = n    111 = o    112 = p    113 = q \n",
      "   114 = r    115 = s    116 = t    117 = u    118 = v    119 = w \n",
      "   120 = x    121 = y    122 = z    123 = {    124 = |    125 = } \n",
      "   126 = ~ \n",
      "\n",
      "   945 = α    946 = β    947 = γ \n",
      "   948 = δ    949 = ε    950 = ζ    951 = η    952 = θ    953 = ι \n",
      "   954 = κ    955 = λ    956 = μ    957 = ν    958 = ξ    959 = ο \n",
      "   960 = π    961 = ρ    962 = ς    963 = σ    964 = τ    965 = υ \n",
      "   966 = φ    967 = χ    968 = ψ    969 = ω "
     ]
    }
   ],
   "source": [
    "# unicode with chr()\n",
    "for k in range(33, 127):\n",
    "    if k % 6 == 0: \n",
    "        print()\n",
    "\n",
    "    print(f\"{k:6} = {chr(k)} \", end ='')\n",
    "print()\n",
    "print()\n",
    "\n",
    "for k in range(945, 970):\n",
    "    if k % 6 == 0: \n",
    "        print()\n",
    "\n",
    "    print(f\"{k:6} = {chr(k)} \", end ='')"
   ]
  }
 ],
 "metadata": {
  "kernelspec": {
   "display_name": "Python 3 (ipykernel)",
   "language": "python",
   "name": "python3"
  },
  "language_info": {
   "codemirror_mode": {
    "name": "ipython",
    "version": 3
   },
   "file_extension": ".py",
   "mimetype": "text/x-python",
   "name": "python",
   "nbconvert_exporter": "python",
   "pygments_lexer": "ipython3",
   "version": "3.12.11"
  },
  "toc": {
   "base_numbering": 1,
   "nav_menu": {},
   "number_sections": true,
   "sideBar": true,
   "skip_h1_title": false,
   "title_cell": "Table of Contents",
   "title_sidebar": "Contents",
   "toc_cell": false,
   "toc_position": {
    "height": "calc(100% - 180px)",
    "left": "10px",
    "top": "150px",
    "width": "252px"
   },
   "toc_section_display": true,
   "toc_window_display": true
  }
 },
 "nbformat": 4,
 "nbformat_minor": 4
}
