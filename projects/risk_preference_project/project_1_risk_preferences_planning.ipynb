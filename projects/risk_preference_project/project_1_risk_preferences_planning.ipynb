{
 "cells": [
  {
   "cell_type": "markdown",
   "metadata": {},
   "source": [
    "# Project 1:  Risk Preferences and Elicitation\n",
    "\n",
    "A typical project has three stages not necessarily done in any specific order.\n",
    "\n",
    "1.  Plan your project.  This will be done in this notebook. \n",
    "2.  Set up your editor (virtual-Studio) code, create a virtual environment, and do an initial commit to your GitHub repository.\n",
    "3.  Test your project.  Here we will talk about three kinds of tests.  Code tests, logging, and user API.  All of this will be done in a testing notebook and visual studio code.     \n",
    "\n",
    "In this project, we will use a procedural programming approach to build a `risk` module to model and elicit risk preferences.  This project is broken down into some functions which are described in the steps described below:\n",
    "\n",
    "* Step 1:  Code `utility functions` defined on lottery outcomes.  \n",
    "* Step 2:  Decide on, and code, a general `lottery data structure`.\n",
    "* Step 3:  Code an `expected value function` and `expected utility function`.\n",
    "* Step 4:  Code `complementary functions` for risk preferences. \n",
    "* Step 5:  Code a `lottery choice function`.\n",
    "* Step 6:  Code the `Holt-Laury procedure` for risk preference elicitation.\n",
    "* Step 7:  Code the `step-wise elicitation algorithm`.\n",
    "* Step 8:  Build a `risk preference module` called `risk`."
   ]
  },
  {
   "cell_type": "markdown",
   "metadata": {},
   "source": [
    "## Step One:  Code utility functions\n",
    "\n",
    "Research the literature starting [here](https://en.wikipedia.org/wiki/Risk_aversion) and find three additional utility functions that you can use to model risk preferences.  Build these utility functaions as python functions in the cells below.  I will start you out with a simple one. "
   ]
  },
  {
   "cell_type": "code",
   "execution_count": null,
   "metadata": {},
   "outputs": [],
   "source": [
    "def linear_utility(m, a=5, b=.75):\n",
    "    \"\"\"linear utility of money\n",
    "    \n",
    "        args: m, float, amount of money.\n",
    "              a, float, intercept.\n",
    "              b, float, slope.\n",
    "              \n",
    "        returns: util, float, utility of money m.    \n",
    "    \"\"\"\n",
    "    #TODO util = a + b*m\n",
    "    return 0"
   ]
  },
  {
   "cell_type": "code",
   "execution_count": 4,
   "metadata": {},
   "outputs": [
    {
     "name": "stdout",
     "output_type": "stream",
     "text": [
      "12.5\n",
      "expected value = 5.0, expected utility = 8.75\n"
     ]
    }
   ],
   "source": [
    "# test functions\n",
    "\n",
    "m1 = 0\n",
    "m2 = 10\n",
    "p1 = .5\n",
    "p2 = .5\n",
    "\n",
    "# test linear_utility function\n",
    "print(linear_utility(m2))\n",
    "print(f\"expected value = {p1*m1 + p2*m2}, expected utility = {p1*linear_utility(m1) + p2*linear_utility(m2)}\")"
   ]
  },
  {
   "cell_type": "markdown",
   "metadata": {},
   "source": [
    "> You can think about additional utility functions you might want to include in this module."
   ]
  },
  {
   "cell_type": "markdown",
   "metadata": {},
   "source": [
    "## Step Two: Design and code lottery data structure  \n",
    "\n",
    "The simplest version of a lottery is a list of dictioaries, where each dictionary indicates an outcome and the probability, greater than or equal to 0, of that outcome happening.  Here is an example:\n",
    "\n",
    "```python\n",
    "lottery = [{'out':0, 'prob':0.5}, {'out':10, 'prob':0.5}]\n",
    "```\n",
    "Obviously the list can have as many dictioaries as we would like.  Lotteries must have the following additional property.  The sum of the probabilities accross the elements (or dictioaries) of the lottery must equal 1.0.  In addition the value associate with 'out' can be either a payoff as in the example or another lottery.  When this happens we call this a compound lottery.  Here is an example.\n",
    "\n",
    "```python\n",
    "compound_lottery = [{'out':lottery, 'prob':0.5}, {'out':10, 'prob':0.5}]\n",
    "```\n",
    "The first step in any lottery choice problem is to build the lotteries.  Lets define two functions to do this."
   ]
  },
  {
   "cell_type": "code",
   "execution_count": null,
   "metadata": {},
   "outputs": [],
   "source": [
    "def input_lottery():\n",
    "    \"\"\"Builds a lottery from user input\n",
    "    \n",
    "        returns:  lottery, a list of dictionaries\n",
    "    \"\"\"\n",
    "    lottery = [{}]\n",
    "    pass\n",
    "    return lottery"
   ]
  },
  {
   "cell_type": "code",
   "execution_count": null,
   "metadata": {},
   "outputs": [],
   "source": [
    "def make_random_lotteries(number=2, max_pay = 100, compound=False, negative=False):\n",
    "    \"\"\"Builds a random list of lotteries\n",
    "    \n",
    "        Lottery payoffs are random draws beteen min_pay and max_pay,\n",
    "        Lottery probabilities are random uniform draws that sum to one.\n",
    "    \n",
    "        args:\n",
    "            number = int > 0, number of lotteries in list.\n",
    "            compound = bool, if True allows compound lotteries one deep,\n",
    "            negative = bool, if False min_pay = 0, if True min_pay = -max_pay.\n",
    "    \"\"\""
   ]
  },
  {
   "cell_type": "markdown",
   "metadata": {},
   "source": [
    "## Step Three: Code an expected value function and expected utility function"
   ]
  },
  {
   "cell_type": "markdown",
   "metadata": {},
   "source": [
    "### Expected Value Coded Here"
   ]
  },
  {
   "cell_type": "code",
   "execution_count": null,
   "metadata": {},
   "outputs": [],
   "source": [
    "def expected_value(lottery):\n",
    "    \"\"\"Calculate expected value of a lottery\n",
    "    \n",
    "        arg:\n",
    "            lottery, list of dictioaries\n",
    "        \n",
    "        returns:\n",
    "            ev, float, expected value of the lottery\n",
    "    \"\"\"\n",
    "    #TODO Expected Value Calculation\n",
    "    return 0"
   ]
  },
  {
   "cell_type": "code",
   "execution_count": 39,
   "metadata": {},
   "outputs": [
    {
     "name": "stdout",
     "output_type": "stream",
     "text": [
      "expected value = 5.0\n",
      "expected value = 7.5\n"
     ]
    }
   ],
   "source": [
    "# Text expected value function\n",
    "lottery = [{'out':0, 'prob':0.5}, {'out':10, 'prob':0.5}]\n",
    "print(f\"expected value = {expected_value(lottery)}\")\n",
    "compound_lottery = [{'out':lottery, 'prob':0.5}, {'out':10, 'prob':0.5}]\n",
    "print(f\"expected value = {expected_value(compound_lottery)}\")"
   ]
  },
  {
   "cell_type": "code",
   "execution_count": 50,
   "metadata": {},
   "outputs": [
    {
     "name": "stdout",
     "output_type": "stream",
     "text": [
      "<class 'function'> <function linear_utility at 0x0000026DC58B7D90>\n",
      "utility of 10 = 12.5\n",
      "or\n",
      "utility of 10 = 12.5\n"
     ]
    }
   ],
   "source": [
    "# You can always assign a variable to a function and pass a function to a function.  Here is an example.\n",
    "\n",
    "def u(m, f):\n",
    "    return f(m)\n",
    "    \n",
    "m = 10\n",
    "util = linear_utility\n",
    "print(type(util), util)\n",
    "\n",
    "print(f\"utility of {m} = {u(m, util)}\")\n",
    "print('or')\n",
    "print(f\"utility of {m} = {u(m, linear_utility)}\")\n"
   ]
  },
  {
   "cell_type": "markdown",
   "metadata": {},
   "source": [
    "### Code Expected Utility Here"
   ]
  },
  {
   "cell_type": "code",
   "execution_count": 1,
   "metadata": {},
   "outputs": [],
   "source": [
    "def expected_utility(lottery, u):\n",
    "    \"\"\"Calculate expected utility of a lottery\n",
    "    \n",
    "        arg:\n",
    "            lottery, list of dictioaries containing \n",
    "                     keys, values {'prob': pr, 'outcome': out}\n",
    "                         pr, float between 0.0 and 1.0 inclusive\n",
    "                         out, either another lottery or a float payoff\n",
    "                     \n",
    "            u, utility function, returns utility of a payoff outcome\n",
    "        \n",
    "        returns:\n",
    "            eu, float, expected utility of the lottery\n",
    "    \"\"\"\n",
    "    eu = 0.0\n",
    "    # TODO: Insert Code Here\n",
    "    return eu"
   ]
  },
  {
   "cell_type": "markdown",
   "metadata": {},
   "source": [
    "## Step Four: complementary functions\n",
    "\n",
    "In this step you will add three complementary functions.  The first function reduces a compound lottery to a simple lottery.  The second function calculates the certainty equivalent of a simple lottery.  The third calculates the risk premium of a lottery. "
   ]
  },
  {
   "cell_type": "code",
   "execution_count": null,
   "metadata": {},
   "outputs": [],
   "source": [
    "def reduce_lottery(lottery):\n",
    "    \"\"\" Reduces compound lottery to a simple lottery.\n",
    "    \n",
    "        A compound lottery has sub-lotteries as outcomes.\n",
    "        A simple lottery only has payoffs as outcomes.\n",
    "        \n",
    "        args:\n",
    "            lottery, list of dictionaries.\n",
    "        returns:\n",
    "            simple_lottery, list of dictionaries with no sub-lottery.\n",
    "    \"\"\""
   ]
  },
  {
   "cell_type": "code",
   "execution_count": null,
   "metadata": {},
   "outputs": [],
   "source": [
    "def certainty_equivalent(lottery, u):\n",
    "    \"\"\" Returns the certainty equivalent (ce) of a lottery.\n",
    "    \n",
    "        u(ce) = expected_utility(lottery, u)\n",
    "        \n",
    "        args:\n",
    "            lottery, list of dictionaries.\n",
    "            u, utility function defined over payoffs.\n",
    "        returns:\n",
    "            ce, float, certainty equivalent\n",
    "    \"\"\""
   ]
  },
  {
   "cell_type": "code",
   "execution_count": null,
   "metadata": {},
   "outputs": [],
   "source": [
    "def risk_premium(lottery, u)\n",
    "    \"\"\" Returns the risk premium (rp) of a lottery.\n",
    "    \n",
    "        rp = expected_value(lottery) - certainty_equivalent(lottery, u)\n",
    "        \n",
    "        args:\n",
    "            lottery, list of dictionaries.\n",
    "            u, utility function defined over payoffs.\n",
    "        returns:\n",
    "            rp, float, risk premium\n",
    "    \"\"\""
   ]
  },
  {
   "cell_type": "markdown",
   "metadata": {},
   "source": [
    "## Step Five:  Lottery choice function\n",
    "\n",
    "Chooses lottery from list with the highest expected utility."
   ]
  },
  {
   "cell_type": "code",
   "execution_count": null,
   "metadata": {},
   "outputs": [],
   "source": [
    "def lottery_choice(lottery_list, u):\n",
    "    \"\"\"Calculate expected utility of a lottery\n",
    "    \n",
    "        arg:\n",
    "            lottery_list, list of lotteries \n",
    "            u, utility function, returns utility of a payoff outcome\n",
    "        \n",
    "        returns:\n",
    "            lottery_index, eu  expected utility of the lottery\n",
    "    \"\"\"\n",
    "    eu = 0.0\n",
    "    lottery_index = None\n",
    "    # TODO: Insert Code Here\n",
    "    return lottery_index, eu"
   ]
  },
  {
   "cell_type": "markdown",
   "metadata": {},
   "source": [
    "## Step Six:  The Holt-Laury procedure\n",
    "\n",
    "This is a well known procedure published by Holt and Laury and avialable on JSTOR [here](https://www.jstor.org/stable/3083270?Search=yes&resultItemClick=true&searchText=Holt&searchText=and&searchText=Laury&searchUri=%2Faction%2FdoAdvancedSearch%3Fc5%3DAND%26amp%3Bc6%3DAND%26amp%3Bf1%3Dall%26amp%3Bc3%3DAND%26amp%3Bq2%3D%26amp%3Bf5%3Dall%26amp%3Bq0%3DHolt%2Band%2BLaury%26amp%3Bf4%3Dall%26amp%3Bc4%3DAND%26amp%3Bsd%3D%26amp%3Bgroup%3Dnone%26amp%3Bq5%3D%26amp%3Bla%3D%26amp%3Bf0%3Dall%26amp%3Bisbn%3D%26amp%3Bf6%3Dall%26amp%3Bacc%3Don%26amp%3Bc1%3DAND%26amp%3Bq4%3D%26amp%3Bf3%3Dall%26amp%3Bq1%3D%26amp%3Bq6%3D%26amp%3Bpt%3D%26amp%3Bc2%3DAND%26amp%3Bf2%3Dall%26amp%3Bq3%3D%26amp%3Bed%3D&refreqid=search%3A63236d1b94e184a59d9526d0f794a141&socuuid=5613aad0-8774-4367-aeab-53105ec2672c&socplat=email).  In this step you code two functions.  The first function makes the list of Holt-Laury lottery choices.  The second function implements the Holt-Laury procedure.  Depending on the value of a default argument the subject will either be a human inputing choices of your `lottery_choice` function."
   ]
  },
  {
   "cell_type": "code",
   "execution_count": null,
   "metadata": {},
   "outputs": [],
   "source": [
    "def build_holt_laury():\n",
    "    \"\"\"Returns list of Holt-Laury lottery pairs.\n",
    "    \n",
    "        returns:\n",
    "            holt_laury_lotteries, list of lists\n",
    "                inner list is a pair of lotteries for choice\n",
    "    \n",
    "    \"\"\""
   ]
  },
  {
   "cell_type": "code",
   "execution_count": null,
   "metadata": {},
   "outputs": [],
   "source": [
    "def holt_laury_choices(lottery_list, u = None):\n",
    "    \"\"\"Returns list of lottery choices from lottery_list\n",
    "    \n",
    "        If u == None, human makes choices, otherwise\n",
    "            lottery choice(inner_list, u) makes choices.\n",
    "    \n",
    "        args:\n",
    "            lottery_list = [[lottery, ..., lottery], ..., \n",
    "                            [lottery, ..., lottery]]\n",
    "            u, utility function over payoffs, or None\n",
    "        returns:\n",
    "            lottery_list_choices\n",
    "    \n",
    "    \"\"\"\n",
    "    "
   ]
  },
  {
   "cell_type": "markdown",
   "metadata": {},
   "source": [
    "## Step Seven:  Stepwise elicitation algorithm\n",
    "\n",
    "The stepwise elicitation algorithm will first build a piecewise linear utility function for a human subject. You will then have your piecewise linear function make choices in the Holt-Laury procedure.  "
   ]
  },
  {
   "cell_type": "markdown",
   "metadata": {},
   "source": [
    "### Algorithm\n",
    "\n",
    "Step One: Set U(min) = 0 and U(max) = 100.\n",
    "\n",
    "Step Two:  Ask for ce_1 of lottery = `[min, .5, max, .5]` to find U(ce_1) (see how below)\n",
    "\n",
    "Step Three: Now ask for ce_2 of `[min, .5, ce_1, .5]` to find U(ce_2)\n",
    "\n",
    "Step Four:  Now ask for ce_3 of `[ce_1, .5, max, .5]` to find U(ce_3)\n",
    "\n",
    "Step n+1:  Take any two number x < y, where you know U(x) and U(y) from previous steps, and ask for ce_n of `[x, .5, y, .5]` to find U(ce_n).\n",
    "\n",
    "Last step:  Given that you now know `[U(min), U(x1), ..., U(xN), U(max)]`, build a piecewise linear function V through these points.\n",
    "\n",
    "#### How to compute U(ce_n)\n",
    "\n",
    "This assumes ce_n was requested from a lottery `[x, .5, y, .5]` where U(x) and U(y) are know.    \n",
    "\n",
    "Since `EU(lottery) = U(ce)`, we now know, `U(ce) = .5*U(x) + .5*U(y)`.\n",
    "\n",
    "For step two, `U(ce_1) = .5*U(min) + .5*U(max)` = `.5*0 + .5*100 ` = ` 50`.\n"
   ]
  },
  {
   "cell_type": "markdown",
   "metadata": {},
   "source": [
    "## Step Eight:  risk module\n",
    "\n",
    "In this step, you will place all of your functions into .py files using visual-studio code. "
   ]
  }
 ],
 "metadata": {
  "kernelspec": {
   "display_name": "Python 3 (ipykernel)",
   "language": "python",
   "name": "python3"
  },
  "language_info": {
   "codemirror_mode": {
    "name": "ipython",
    "version": 3
   },
   "file_extension": ".py",
   "mimetype": "text/x-python",
   "name": "python",
   "nbconvert_exporter": "python",
   "pygments_lexer": "ipython3",
   "version": "3.12.4"
  }
 },
 "nbformat": 4,
 "nbformat_minor": 4
}
