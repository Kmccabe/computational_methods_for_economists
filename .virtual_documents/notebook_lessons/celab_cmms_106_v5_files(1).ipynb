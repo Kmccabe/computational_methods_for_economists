





import os  # operating system 
current_working_dir = os.getcwd()   # path to current directory
print(current_working_dir)
directory = os.listdir(current_working_dir)  # list of files and folders in working directory
for item in directory:
    print(item)





path = "C:\\Users\\Desktop\\"  # Build Your Own Path notice \\ in string to get \
print(path)
print()
new_directory = os.listdir(path)
for k, item in enumerate(new_directory):
    if k < 5:
        print(item)
    else:
        break





import os

# set up path
current_working_dir = os.getcwd()+"\\"
file_name = input("Enter the filename test_2")
path = current_working_dir + file_name + '.txt'
print(path)

# start writing out to file
output_file = open(path, 'w')          # the 'w' is for write
output_file.write("a nice string\n")   # write a line, 
                                       # notice \n needed for new line
output_file.write("1, 2, 3, 4")        # write another line
output_file.close() 



# This examples reads one line and prints it

input_file = open(path)
line = input_file.readline()
print(line, end="")
input_file.close()


# This example reads the whole file as one string and prints it

input_file = open(path)
file_contents = input_file.read()
print(file_contents)
input_file.close()


# This example read assigns each line of the file to a list element 

input_file = open(path)
line = input_file.readlines()
print(line)
input_file.close()


# This examples uses a loop to read and print all lines

input_file = open(path)
for line in input_file:
    print(line, end ="")
input_file.close()


# This code uses a 'with' statement to open the file
# using 'with' will automatically close a file

with open(path) as input_file:
    for line in input_file:
        print(line, end ="")
print()
print("We are done")








import csv  #uncomment help to see it
#help(csv)


import csv  # handles csv type files

# write a csv file
output_file = open('example.csv', 'w', newline='')
output_writer = csv.writer(output_file)
output_writer.writerow(['spam', 'eggs', 'bacon'])  # write a list as a row
output_writer.writerow([1, 2, 3.14159])
output_file.close()


# read a csv file all at one time
input_file = open('example.csv')
input_reader = csv.reader(input_file)
all_data = list(input_reader)
print(all_data)


# read a csv file one line at a time
import csv
input_file = open('example.csv')
input_reader = csv.reader(input_file)
for row in input_reader:
    print(row)
print(row, type(row), row[0], type(row[0]))


# lets create an error
input_file = open('exmple.csv')
input_reader = csv.reader(input_file)
for row in input_reader:
    print(row)


# lets trap this error
path = 'exmple.csv'
try: 
    input_file = open(path)
    input_reader = csv.reader(input_file)
    for row in input_reader:
        print(row)
except OSError as err:
    print(err)








import os
import shelve

# set up path
current_working_dir = os.getcwd()+"\\"
file_name = "shelve_eg1"
path = current_working_dir + file_name
print(path)

# start writing out to file
shelf_file = shelve.open(path)         # open a shelve file
shelf_file['stooges'] = ["Larry", "Moe", "Joe", "Curly"]
shelf_file['number'] = 3
shelf_file.close()


input_shelf = shelve.open(path)
print(type(input_shelf))
print(input_shelf['stooges'])
print(input_shelf['number'])



