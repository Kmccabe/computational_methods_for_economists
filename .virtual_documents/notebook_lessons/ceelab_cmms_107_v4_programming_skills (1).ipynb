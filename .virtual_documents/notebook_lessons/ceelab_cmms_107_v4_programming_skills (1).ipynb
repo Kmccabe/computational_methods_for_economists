























# Get a test case
import math
math.log(100)
# Copy and paste result to doctest





import math

def log_utility(x, warning = False):
    
    """Returns the natural log of x
    
    arg: x, float > 0
    arg: warning, boolean defaults to False
                  if warning = True prints warnings
                        
    return: ln(x) if x > 0,
    None  otherwise
               
    doctests:
    >>> log_utility(0) is None
    True
    
    >>> log_utility(100)
    4.605170185988092
    """


import doctest
doctest.testmod()


import math

def log_utility(x, warning = False):
    
    """Returns the natural log of x
    
    arg: x, float > 0
    arg: warning, boolean defaults to False
                  if warning = True prints warnings
                        
    return: ln(x) if x > 0,
    None  otherwise
               
    doctests:
    >>> log_utility(0) is None
    True
    
    >>> log_utility(100)
    4.605170185988092
    """
    
    
    try:
        return math.log(x)
    except ValueError:
        if warning: print(f"Warning:  ln({x}) set to None.")
        return None


import doctest
doctest.testmod()





z = []
for k in range(-5, 6):
    z.append((k, log_utility(k)))
print(z)


z = []
for k in range(-5, 6):
    z.append((k, log_utility(k, warning=True)))
print(z)





import math

def log_utility(x, warning = False):
    
    """Returns the natural log of x
    
    arg: x, number > 0
    arg: warning, boolean defaults to False
                  if warning = True prints warnings
                        
    return: ln(x) if x > 0,
    None  otherwise
               
    doctests:
    >>> log_utility(0) is None
    True
    
    >>> log_utility(100)
    4.605170185988092
    """
    
#    breakpoint()
    try:
        return math.log(x)
    except ValueError:
        if warning: print(f"Warning:  ln(x) set to None.")
        return None





log_utility(10)





log_utility(1.1+1j)


import math

def log_utility(x, warning = False):
    
    """Returns the natural log of x
    
    arg: x, int, float > 0
    arg: warning, boolean defaults to False
                  if warning = True prints warnings
                        
    return: ln(x) if x > 0
            None  if x not > 0, or x not int, float
               
    doctests:
    >>> log_utility(0) is None
    True
    
    >>> log_utility(100)
    4.605170185988092
    """
    
    try:
        return math.log(x)
    except ValueError:
        if warning: print(f"Warning:  ln(x) set to None.")
        return None
    except TypeError:
        if warning: print(f"Warning value {x} is {type(x)} not int or float.  Set to None.")
        return None


log_utility("one", warning = True)


import math

def log_utility(x, warning = False):
    
    """Returns the natural log of x
    
    arg: x, int, float > 0
    arg: warning, boolean defaults to False
                  if warning = True prints warnings
                        
    return: ln(x) if x > 0
            None  if x not > 0, or x not int, float
               
    doctests:
    >>> log_utility(0) is None
    True
    
    >>> log_utility(100)
    4.605170185988092
    
    >>> log_utility("") is None
    True
    
    >>> log_utility(1.1+1j) is None
    True
    
    >>> log_utility(100.0)
    4.605170185988092
    
    """
    
    try:
        return math.log(x)
    except ValueError:
        if warning: print(f"Warning:  ln(x) set to None.")
        return None
    except TypeError:
        if warning: print(f"Warning value {x} is {type(x)} not int or float.  Set to None.")
        return None


import doctest
doctest.testmod()


help(log_utility)





%pwd





import utility_functions





%%writefile utility_functions.py 
import math

def log_utility(x, warning = False):
    
    """Returns the natural log of x
    
    arg: x, int, float > 0
    arg: warning, boolean defaults to False
                  if warning = True prints warnings
                        
    return: ln(x) if x > 0
            None  if x not > 0, or x not int, float
               
    doctests:
    >>> log_utility(0) is None
    True
    
    >>> log_utility(100)
    4.605170185988092
    
    >>> log_utility("") is None
    True
    
    >>> log_utility(1.1+1j) is None
    True
    
    >>> log_utility(100.0)
    4.605170185988092
    
    """
    
    try:
        return math.log(x)
    except ValueError:
        if warning: print(f"Warning:  ln(x) set to None.")
        return None
    except TypeError:
        if warning: print(f"Warning value {x} is {type(x)} not int or float.  Set to None.")
        return None





import utility_functions as u
dir(u)


import doctest
doctest.testmod(u)





z = []
for k in range(-5, 6):
    z.append((k, u.log_utility(k, warning=True)))
print(z)





# for test below
20+5.5*(1.1+1j)


%%writefile -a utility_functions.py

# leave blank line above
def linear_utility(x, intercept = 0.0, slope = 1.0, warning = False):
    
    """Returns linear utility of x
    
    arg: x, int, float > 0
    arg: intercept, float, default to 0.0
    arg: slope, float > 0, default to 1.0
    arg: warning, boolean default to False
                  if warning = True prints warnings
                        
    return: intercept + slope*x
            None  if x not int, float or complex
               
    doctests:
    >>> linear_utility(0)
    0.0
    
    >>> linear_utility(100.0)
    100.0
    
    >>> linear_utility(100.0, intercept = 10.0)
    110.0
    
    >>> linear_utility("") is None
    True
    
    >>> linear_utility(1.1+1j, slope = 5.5, intercept = 20.0)
    (26.05+5.5j)
    
    
    """
    assert type(intercept) == float, "intercept is not a float" 
    assert type(slope) == float, "slope is not a float"    
    assert slope > 0, f"Slope {slope} < 0"
    try:
        return float(intercept) + float(slope) * x
    except ValueError:
        if warning: print(f"Warning:Value error on argument = {x}.")
        return None
    except TypeError:
        if warning: print(f"Warning value {x} is {type(x)} not int or float.  Set to None.")
        return None


import importlib         # You need to do these two lines to reload utility_functions
importlib.reload(u)
dir(u)





import logging
logging.warning('Watch out!')  # will print a message to the console
logging.info('I told you so')  # will not print anything


logger.setLevel(logging.INFO)
logging.warning('Watch out!')  # will print a message to the console
logging.info('I told you so')  # will not print anything


%pwd





import logging
logger = logging.getLogger()
fhandler = logging.FileHandler(filename='mylog.log', mode='a')
formatter = logging.Formatter('%(asctime)s - %(name)s - %(levelname)s - %(message)s')
fhandler.setFormatter(formatter)
logger.addHandler(fhandler)
logger.setLevel(logging.DEBUG)
logging.debug('This message should go to the log file')
logging.info('So should this')
logging.warning('And this, too')
logging.error('And non-ASCII stuff, too, like Øresund and Malmö')





import math
import logging

def log_utility(x):
    
    """Returns the natural log of x
    
    arg: x, int, float > 0
    arg: warning, boolean defaults to False
                  if warning = True prints warnings
                        
    return: ln(x) if x > 0
            None  if x not > 0, or x not int, float
               
    doctests:
    >>> log_utility(0) is None
    True
    
    >>> log_utility(100)
    4.605170185988092
    
    >>> log_utility("") is None
    True
    
    >>> log_utility(1.1+1j) is None
    True
    
    >>> log_utility(100.0)
    4.605170185988092
    
    """
    logging.info(f'entered log_utility x = {x}, type(x) ={type(x)}')
    try:
        utility = math.log(x)
        logging.info(f'log_utility({x}) returned {utility}')
        return utility
    except ValueError:
        logging.warning('ValueError on math.log(x), returned None')
        return None
    except TypeError:
        logging.warning('TypeError on math.log(x), returned None')
        return None


logger = logging.getLogger()
fhandler = logging.FileHandler(filename='risk_preferences.log', mode='w')
formatter = logging.Formatter('%(asctime)s - %(name)s - %(levelname)s - %(message)s')
fhandler.setFormatter(formatter)
logger.addHandler(fhandler)
logger.setLevel(logging.DEBUG)

logging.info('start ------------------')
states = [-10, -5, 0, 'one', 1, 5, 10]
state_utilities = []
for money in states:
    utility = log_utility(money)
    state_utilities.append((money, utility))
    
print(state_utilities)

logs = list(logger.handlers)
print(logs)
for i in logs:
    logger.removeHandler(i)
    i.flush()
    i.close()















#%%writefile -a utility_functions.py

def crra_utility(x, a=.5):
    """returns CRRA utility of money x"""
    if float(a) == 1.0:
        return log_utility(x)
    return (x**(1.0-a) - 1.0)/(1.0-a)


import importlib         # You need to do these two lines to reload utility_functions
importlib.reload(u)
dir(u)


crra_utility(10, a = 1)






